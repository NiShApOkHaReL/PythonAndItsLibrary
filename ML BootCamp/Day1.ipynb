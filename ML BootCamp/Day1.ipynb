{
 "cells": [
  {
   "cell_type": "code",
   "execution_count": 1,
   "id": "4b08249d",
   "metadata": {},
   "outputs": [
    {
     "name": "stdout",
     "output_type": "stream",
     "text": [
      "Hello world\n"
     ]
    }
   ],
   "source": [
    "print('Hello world')"
   ]
  },
  {
   "cell_type": "code",
   "execution_count": 2,
   "id": "cf6bca8d",
   "metadata": {},
   "outputs": [
    {
     "name": "stdout",
     "output_type": "stream",
     "text": [
      "Hello today I am learning machine learning and data science.\n"
     ]
    }
   ],
   "source": [
    "print('Hello today I am learning machine learning and data science.')"
   ]
  },
  {
   "cell_type": "code",
   "execution_count": 3,
   "id": "b3b77662",
   "metadata": {},
   "outputs": [],
   "source": [
    "#Complex"
   ]
  },
  {
   "cell_type": "code",
   "execution_count": 4,
   "id": "d8c02548",
   "metadata": {},
   "outputs": [],
   "source": [
    "z=3+4j"
   ]
  },
  {
   "cell_type": "code",
   "execution_count": 5,
   "id": "e8457f58",
   "metadata": {},
   "outputs": [],
   "source": [
    "a=complex(3,4)"
   ]
  },
  {
   "cell_type": "code",
   "execution_count": 6,
   "id": "258c4aa7",
   "metadata": {},
   "outputs": [
    {
     "data": {
      "text/plain": [
       "complex"
      ]
     },
     "execution_count": 6,
     "metadata": {},
     "output_type": "execute_result"
    }
   ],
   "source": [
    "type(a)"
   ]
  },
  {
   "cell_type": "markdown",
   "id": "cac5b54c",
   "metadata": {},
   "source": [
    "## String"
   ]
  },
  {
   "cell_type": "code",
   "execution_count": 7,
   "id": "52c00677",
   "metadata": {},
   "outputs": [
    {
     "data": {
      "text/plain": [
       "'nisha pokharel'"
      ]
     },
     "execution_count": 7,
     "metadata": {},
     "output_type": "execute_result"
    }
   ],
   "source": [
    "text = 'Nisha Pokharel'\n",
    "text.lower()"
   ]
  },
  {
   "cell_type": "code",
   "execution_count": 8,
   "id": "e431d834",
   "metadata": {},
   "outputs": [
    {
     "data": {
      "text/plain": [
       "'Nisha Pokharel'"
      ]
     },
     "execution_count": 8,
     "metadata": {},
     "output_type": "execute_result"
    }
   ],
   "source": [
    "text.title()"
   ]
  },
  {
   "cell_type": "code",
   "execution_count": 9,
   "id": "e901c56b",
   "metadata": {},
   "outputs": [
    {
     "data": {
      "text/plain": [
       "'Nisha Pokharel'"
      ]
     },
     "execution_count": 9,
     "metadata": {},
     "output_type": "execute_result"
    }
   ],
   "source": [
    "text.strip()"
   ]
  },
  {
   "cell_type": "code",
   "execution_count": 10,
   "id": "7869b472",
   "metadata": {},
   "outputs": [
    {
     "data": {
      "text/plain": [
       "['Nisha Pokharel']"
      ]
     },
     "execution_count": 10,
     "metadata": {},
     "output_type": "execute_result"
    }
   ],
   "source": [
    "text.split(',')"
   ]
  },
  {
   "cell_type": "markdown",
   "id": "21a6b64f",
   "metadata": {},
   "source": [
    "##Sequence Type\n",
    ".List\n",
    ".Tuple"
   ]
  },
  {
   "cell_type": "code",
   "execution_count": 11,
   "id": "3ac954be",
   "metadata": {},
   "outputs": [
    {
     "data": {
      "text/plain": [
       "list"
      ]
     },
     "execution_count": 11,
     "metadata": {},
     "output_type": "execute_result"
    }
   ],
   "source": [
    "list1 = [1,'abc',2.3,1]\n",
    "type(list1)"
   ]
  },
  {
   "cell_type": "code",
   "execution_count": 12,
   "id": "5b627cda",
   "metadata": {},
   "outputs": [
    {
     "data": {
      "text/plain": [
       "tuple"
      ]
     },
     "execution_count": 12,
     "metadata": {},
     "output_type": "execute_result"
    }
   ],
   "source": [
    "tuple1 = (1,'abc',2.3,1)\n",
    "type(tuple1)"
   ]
  },
  {
   "cell_type": "code",
   "execution_count": 13,
   "id": "cdbf9f26",
   "metadata": {},
   "outputs": [
    {
     "data": {
      "text/plain": [
       "1"
      ]
     },
     "execution_count": 13,
     "metadata": {},
     "output_type": "execute_result"
    }
   ],
   "source": [
    "list1[0]"
   ]
  },
  {
   "cell_type": "code",
   "execution_count": 14,
   "id": "266b22d1",
   "metadata": {},
   "outputs": [
    {
     "data": {
      "text/plain": [
       "[5, 'abc', 2.3, 1]"
      ]
     },
     "execution_count": 14,
     "metadata": {},
     "output_type": "execute_result"
    }
   ],
   "source": [
    "list1[0] =5 #Mutable\n",
    "list1"
   ]
  },
  {
   "cell_type": "code",
   "execution_count": 15,
   "id": "c26e99fc",
   "metadata": {},
   "outputs": [
    {
     "ename": "TypeError",
     "evalue": "'tuple' object does not support item assignment",
     "output_type": "error",
     "traceback": [
      "\u001b[1;31m---------------------------------------------------------------------------\u001b[0m",
      "\u001b[1;31mTypeError\u001b[0m                                 Traceback (most recent call last)",
      "Cell \u001b[1;32mIn[15], line 1\u001b[0m\n\u001b[1;32m----> 1\u001b[0m tuple1[\u001b[38;5;241m0\u001b[39m]\u001b[38;5;241m=\u001b[39m\u001b[38;5;241m2\u001b[39m\n",
      "\u001b[1;31mTypeError\u001b[0m: 'tuple' object does not support item assignment"
     ]
    }
   ],
   "source": [
    "tuple1[0]=2 #Immutable"
   ]
  },
  {
   "cell_type": "markdown",
   "id": "bd4b02cb",
   "metadata": {},
   "source": [
    "#Set"
   ]
  },
  {
   "cell_type": "code",
   "execution_count": 16,
   "id": "6f5866fd",
   "metadata": {},
   "outputs": [
    {
     "data": {
      "text/plain": [
       "set"
      ]
     },
     "execution_count": 16,
     "metadata": {},
     "output_type": "execute_result"
    }
   ],
   "source": [
    "set1 = {1,'abc',2.3,1}\n",
    "type(set1)"
   ]
  },
  {
   "cell_type": "code",
   "execution_count": 17,
   "id": "f24b8f0d",
   "metadata": {},
   "outputs": [
    {
     "data": {
      "text/plain": [
       "{1, 2.3, 'abc'}"
      ]
     },
     "execution_count": 17,
     "metadata": {},
     "output_type": "execute_result"
    }
   ],
   "source": [
    "set1 #It store only unique values"
   ]
  },
  {
   "cell_type": "markdown",
   "id": "5a8badec",
   "metadata": {},
   "source": [
    "## Dictionary"
   ]
  },
  {
   "cell_type": "code",
   "execution_count": 21,
   "id": "e49d2033",
   "metadata": {},
   "outputs": [
    {
     "data": {
      "text/plain": [
       "'values1'"
      ]
     },
     "execution_count": 21,
     "metadata": {},
     "output_type": "execute_result"
    }
   ],
   "source": [
    "dict1 = {'key1': 'values1','key2': 'values2'} #Fast than others yesle key ma j xa tei search garxa aru ma chai purai list search hunxa\n",
    "dict1['key1']"
   ]
  },
  {
   "cell_type": "markdown",
   "id": "b9605454",
   "metadata": {},
   "source": [
    "## Boolean type"
   ]
  },
  {
   "cell_type": "code",
   "execution_count": 22,
   "id": "1456d1cb",
   "metadata": {},
   "outputs": [
    {
     "data": {
      "text/plain": [
       "bool"
      ]
     },
     "execution_count": 22,
     "metadata": {},
     "output_type": "execute_result"
    }
   ],
   "source": [
    "x = 4\n",
    "y = x>11\n",
    "type(y)"
   ]
  },
  {
   "cell_type": "markdown",
   "id": "9da64a40",
   "metadata": {},
   "source": [
    "## Conditional Statement"
   ]
  },
  {
   "cell_type": "code",
   "execution_count": 23,
   "id": "85090c69",
   "metadata": {},
   "outputs": [
    {
     "name": "stdout",
     "output_type": "stream",
     "text": [
      "x is less than 11\n"
     ]
    }
   ],
   "source": [
    "if x > 11:\n",
    "    print('x is greater that 11')\n",
    "else:\n",
    "    print('x is less than 11')"
   ]
  },
  {
   "cell_type": "code",
   "execution_count": 25,
   "id": "25196131",
   "metadata": {},
   "outputs": [],
   "source": [
    "x=0"
   ]
  },
  {
   "cell_type": "code",
   "execution_count": 26,
   "id": "41f250a4",
   "metadata": {},
   "outputs": [
    {
     "name": "stdout",
     "output_type": "stream",
     "text": [
      "x is zero\n"
     ]
    }
   ],
   "source": [
    "if x > 11:\n",
    "    print('x is greater that 11')\n",
    "elif x ==0 :\n",
    "    print('x is zero')\n",
    "else:\n",
    "    print('Other')"
   ]
  },
  {
   "cell_type": "markdown",
   "id": "881dfa02",
   "metadata": {},
   "source": [
    "## Loops"
   ]
  },
  {
   "cell_type": "code",
   "execution_count": 27,
   "id": "993890a5",
   "metadata": {},
   "outputs": [
    {
     "name": "stdout",
     "output_type": "stream",
     "text": [
      "0\n",
      "1\n",
      "2\n",
      "3\n",
      "4\n",
      "5\n",
      "6\n",
      "7\n",
      "8\n",
      "9\n"
     ]
    }
   ],
   "source": [
    "list1 = [1,2,3,4]\n",
    "for i in range(10):\n",
    "    print(i)"
   ]
  },
  {
   "cell_type": "code",
   "execution_count": 66,
   "id": "47d77b14",
   "metadata": {},
   "outputs": [
    {
     "name": "stdout",
     "output_type": "stream",
     "text": [
      "1\n",
      "4\n",
      "64\n",
      "81\n"
     ]
    }
   ],
   "source": [
    "list1 = [1, 2, 8, 9]\n",
    "\n",
    "for i in list1:\n",
    "    squared = i ** 2\n",
    "    print(squared)\n"
   ]
  },
  {
   "cell_type": "code",
   "execution_count": 67,
   "id": "9212153f",
   "metadata": {},
   "outputs": [],
   "source": [
    "list1 = [1,2,9,4]\n",
    "for i in range(len(list1)):\n",
    "    list1[i]=list1[i]**2"
   ]
  },
  {
   "cell_type": "code",
   "execution_count": 29,
   "id": "41b12d2e",
   "metadata": {},
   "outputs": [
    {
     "data": {
      "text/plain": [
       "[1, 4, 9, 16]"
      ]
     },
     "execution_count": 29,
     "metadata": {},
     "output_type": "execute_result"
    }
   ],
   "source": [
    "list1"
   ]
  },
  {
   "cell_type": "code",
   "execution_count": 31,
   "id": "f7cbbb2f",
   "metadata": {},
   "outputs": [
    {
     "name": "stdout",
     "output_type": "stream",
     "text": [
      "0\n",
      "1\n",
      "2\n",
      "3\n",
      "4\n"
     ]
    }
   ],
   "source": [
    "#Runs until the condition is true\n",
    "x = 0\n",
    "while x < 5:\n",
    "    print(x)\n",
    "    x+=1"
   ]
  },
  {
   "cell_type": "markdown",
   "id": "aa855916",
   "metadata": {},
   "source": [
    "## Functions"
   ]
  },
  {
   "cell_type": "code",
   "execution_count": 32,
   "id": "cc72378b",
   "metadata": {},
   "outputs": [],
   "source": [
    "def func1():\n",
    "    print('Hello World')\n"
   ]
  },
  {
   "cell_type": "code",
   "execution_count": 33,
   "id": "d72dc08a",
   "metadata": {},
   "outputs": [
    {
     "name": "stdout",
     "output_type": "stream",
     "text": [
      "Hello World\n"
     ]
    }
   ],
   "source": [
    "func1()"
   ]
  },
  {
   "cell_type": "code",
   "execution_count": 34,
   "id": "4aae5a17",
   "metadata": {},
   "outputs": [],
   "source": [
    "def add(a,b,c):\n",
    "    return(a+b+c)\n",
    "    "
   ]
  },
  {
   "cell_type": "code",
   "execution_count": 43,
   "id": "fcbdf7ca",
   "metadata": {},
   "outputs": [
    {
     "data": {
      "text/plain": [
       "9"
      ]
     },
     "execution_count": 43,
     "metadata": {},
     "output_type": "execute_result"
    }
   ],
   "source": [
    "add(2,3,4) #Positional arguments, vaneko sequence mai values dina parxa"
   ]
  },
  {
   "cell_type": "code",
   "execution_count": 37,
   "id": "a4840b7b",
   "metadata": {},
   "outputs": [
    {
     "ename": "TypeError",
     "evalue": "add() missing 1 required positional argument: 'c'",
     "output_type": "error",
     "traceback": [
      "\u001b[1;31m---------------------------------------------------------------------------\u001b[0m",
      "\u001b[1;31mTypeError\u001b[0m                                 Traceback (most recent call last)",
      "Cell \u001b[1;32mIn[37], line 1\u001b[0m\n\u001b[1;32m----> 1\u001b[0m \u001b[43madd\u001b[49m\u001b[43m(\u001b[49m\u001b[38;5;241;43m2\u001b[39;49m\u001b[43m,\u001b[49m\u001b[38;5;241;43m3\u001b[39;49m\u001b[43m)\u001b[49m\n",
      "\u001b[1;31mTypeError\u001b[0m: add() missing 1 required positional argument: 'c'"
     ]
    }
   ],
   "source": [
    "add(2,3)"
   ]
  },
  {
   "cell_type": "code",
   "execution_count": 40,
   "id": "311425d7",
   "metadata": {},
   "outputs": [],
   "source": [
    "def add_num(a,b=0,c=0): #key word argument\n",
    "    return(a+b+c)\n"
   ]
  },
  {
   "cell_type": "code",
   "execution_count": 39,
   "id": "650c711e",
   "metadata": {},
   "outputs": [
    {
     "data": {
      "text/plain": [
       "3"
      ]
     },
     "execution_count": 39,
     "metadata": {},
     "output_type": "execute_result"
    }
   ],
   "source": [
    "add_num(1,2)"
   ]
  },
  {
   "cell_type": "code",
   "execution_count": 41,
   "id": "edf3086c",
   "metadata": {},
   "outputs": [
    {
     "data": {
      "text/plain": [
       "9"
      ]
     },
     "execution_count": 41,
     "metadata": {},
     "output_type": "execute_result"
    }
   ],
   "source": [
    "add_num(1,c=8)"
   ]
  },
  {
   "cell_type": "code",
   "execution_count": 42,
   "id": "92499769",
   "metadata": {},
   "outputs": [
    {
     "name": "stdout",
     "output_type": "stream",
     "text": [
      "3\n",
      "0\n",
      "8\n"
     ]
    },
    {
     "data": {
      "text/plain": [
       "11"
      ]
     },
     "execution_count": 42,
     "metadata": {},
     "output_type": "execute_result"
    }
   ],
   "source": [
    "def add_num(a,b=0,c=0): #key word argument\n",
    "    print(a)\n",
    "    print(b)\n",
    "    print(c)\n",
    "    return(a+b+c)\n",
    "add_num(3,c=8)"
   ]
  },
  {
   "cell_type": "markdown",
   "id": "da8af2df",
   "metadata": {},
   "source": [
    "## Class and object"
   ]
  },
  {
   "cell_type": "code",
   "execution_count": 52,
   "id": "e74962c2",
   "metadata": {},
   "outputs": [],
   "source": [
    "class ADD:\n",
    "    def __init__(self, a, b, c):\n",
    "        self.a = a\n",
    "        self.b = b\n",
    "        self.c = c\n",
    "        \n",
    "    def add_two_nos(self):\n",
    "        return self.a + self.b\n",
    "    \n",
    "    def add_three_nos(self):\n",
    "        return self.a + self.b + self.c\n"
   ]
  },
  {
   "cell_type": "code",
   "execution_count": 53,
   "id": "5650cc7f",
   "metadata": {},
   "outputs": [],
   "source": [
    "add1 = ADD(2,3,4)"
   ]
  },
  {
   "cell_type": "code",
   "execution_count": 54,
   "id": "85ce9567",
   "metadata": {},
   "outputs": [],
   "source": [
    "add2 = ADD(1,3,5)"
   ]
  },
  {
   "cell_type": "code",
   "execution_count": 55,
   "id": "e76073e5",
   "metadata": {},
   "outputs": [
    {
     "data": {
      "text/plain": [
       "5"
      ]
     },
     "execution_count": 55,
     "metadata": {},
     "output_type": "execute_result"
    }
   ],
   "source": [
    "add1.add_two_nos()"
   ]
  },
  {
   "cell_type": "code",
   "execution_count": null,
   "id": "62345e32",
   "metadata": {},
   "outputs": [],
   "source": []
  }
 ],
 "metadata": {
  "kernelspec": {
   "display_name": "Python 3 (ipykernel)",
   "language": "python",
   "name": "python3"
  },
  "language_info": {
   "codemirror_mode": {
    "name": "ipython",
    "version": 3
   },
   "file_extension": ".py",
   "mimetype": "text/x-python",
   "name": "python",
   "nbconvert_exporter": "python",
   "pygments_lexer": "ipython3",
   "version": "3.10.9"
  }
 },
 "nbformat": 4,
 "nbformat_minor": 5
}
